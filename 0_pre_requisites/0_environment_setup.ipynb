{
 "cells": [
  {
   "cell_type": "markdown",
   "metadata": {},
   "source": [
    "# Creation of a virtual environment"
   ]
  },
  {
   "cell_type": "markdown",
   "metadata": {},
   "source": [
    "To separate the dependencies of this project from global dependencies, we suggest creating a virtual environment. Some of the needed packages require a specific version of some libraries, and this can cause conflicts with other projects.\n",
    "\n",
    "This guide will show you how to create a virtual environment using anaconda. If you prefer to use another tool (e.g. [python virtualenv](https://www.freecodecamp.org/news/how-to-setup-virtual-environments-in-python/)), you are free to do so, but the content has only been tested with anaconda."
   ]
  },
  {
   "cell_type": "markdown",
   "metadata": {},
   "source": [
    "If you do not have anaconda installed, you can download it [here](https://docs.anaconda.com/anaconda/install/)."
   ]
  },
  {
   "cell_type": "markdown",
   "metadata": {},
   "source": [
    "To create a virtual environment, you can run the following command:\n",
    "\n",
    "```bash\n",
    "conda create --name <env_name> python=3.12\n",
    "```\n",
    "\n",
    "After creating the environment, you can activate it by running:\n",
    "\n",
    "```bash\n",
    "conda activate <env_name>\n",
    "```\n",
    "\n",
    "After activating the environment, your terminal should look something like this:\n",
    "\n",
    "```bash\n",
    "(<env_name>) user@computer:~$\n",
    "```\n",
    "\n",
    "This will allow you to install the dependencies of this project without interfering with the dependencies of other projects.\n",
    "\n",
    "To deactivate the environment, you can run:\n",
    "\n",
    "```bash\n",
    "conda deactivate\n",
    "```"
   ]
  },
  {
   "cell_type": "markdown",
   "metadata": {},
   "source": [
    "# Installation of packages"
   ]
  },
  {
   "cell_type": "markdown",
   "metadata": {},
   "source": [
    "To install the required packages in the virtual environment, you can run the following command:\n",
    "\n",
    "```bash\n",
    "pip install -e.\n",
    "```\n",
    "\n",
    "This will install the packages listed in the field `install_requires` in the `setup.py` file in the current environment and make the `root` directory available for importing. \n",
    "\n",
    "Note that you might need to reload your terminal/IDE to make the changes effective."
   ]
  },
  {
   "cell_type": "markdown",
   "metadata": {},
   "source": [
    "To test if you can import, try importing the `kinematic_model` module as follows:"
   ]
  },
  {
   "cell_type": "code",
   "execution_count": 2,
   "metadata": {},
   "outputs": [],
   "source": [
    "import models.kinematic_model.kinematic_model as km\n",
    "kinematic_model = km.KinematicModel()"
   ]
  },
  {
   "cell_type": "markdown",
   "metadata": {},
   "source": [
    "Also ensure that all the following packages can be imported without any errors:"
   ]
  },
  {
   "cell_type": "code",
   "execution_count": null,
   "metadata": {},
   "outputs": [],
   "source": [
    "import numpy\n",
    "import roboticstoolbox\n",
    "import spatialmath\n",
    "import zmq\n",
    "import matplotlib\n",
    "import pandas"
   ]
  }
 ],
 "metadata": {
  "kernelspec": {
   "display_name": "dtcourse",
   "language": "python",
   "name": "python3"
  },
  "language_info": {
   "codemirror_mode": {
    "name": "ipython",
    "version": 3
   },
   "file_extension": ".py",
   "mimetype": "text/x-python",
   "name": "python",
   "nbconvert_exporter": "python",
   "pygments_lexer": "ipython3",
   "version": "3.12.6"
  }
 },
 "nbformat": 4,
 "nbformat_minor": 2
}
