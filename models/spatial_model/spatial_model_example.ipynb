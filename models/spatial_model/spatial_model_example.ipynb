{
 "cells": [
  {
   "cell_type": "code",
   "execution_count": 1,
   "metadata": {},
   "outputs": [],
   "source": [
    "import models.spatial_model.spatial_model as sm\n",
    "\n",
    "# Create a new spatial model\n",
    "model = sm.SpatialModel()"
   ]
  },
  {
   "cell_type": "markdown",
   "metadata": {},
   "source": [
    "## Testing the conversion of a grid data point"
   ]
  },
  {
   "cell_type": "code",
   "execution_count": 6,
   "metadata": {},
   "outputs": [
    {
     "name": "stdout",
     "output_type": "stream",
     "text": [
      "[-0.08051, 0.32071, 0.265, 0, 3.141592653589793, 0]\n"
     ]
    }
   ],
   "source": [
    "spatial_pose = model.compute_spatial_pose(1, 1, 2)\n",
    "print(spatial_pose)"
   ]
  }
 ],
 "metadata": {
  "kernelspec": {
   "display_name": "dtcourse",
   "language": "python",
   "name": "python3"
  },
  "language_info": {
   "codemirror_mode": {
    "name": "ipython",
    "version": 3
   },
   "file_extension": ".py",
   "mimetype": "text/x-python",
   "name": "python",
   "nbconvert_exporter": "python",
   "pygments_lexer": "ipython3",
   "version": "3.12.6"
  }
 },
 "nbformat": 4,
 "nbformat_minor": 2
}
