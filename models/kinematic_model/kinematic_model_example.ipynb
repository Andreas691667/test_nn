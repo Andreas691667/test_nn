{
 "cells": [
  {
   "cell_type": "markdown",
   "metadata": {},
   "source": [
    "# Kinematic model example"
   ]
  },
  {
   "cell_type": "code",
   "execution_count": 1,
   "metadata": {},
   "outputs": [],
   "source": [
    "import models.kinematic_model.kinematic_model as km\n",
    "import numpy as np\n",
    "\n",
    "# Define the robot\n",
    "robot = km.KinematicModel()"
   ]
  },
  {
   "cell_type": "markdown",
   "metadata": {},
   "source": [
    "## Test of inverse kinematics"
   ]
  },
  {
   "cell_type": "code",
   "execution_count": 2,
   "metadata": {},
   "outputs": [
    {
     "name": "stdout",
     "output_type": "stream",
     "text": [
      "[ 4.54878939 -1.13205639  2.13931841 -2.57805848 -1.57079632  2.97799307]\n"
     ]
    }
   ],
   "source": [
    "# define the desired position\n",
    "rx, ry, rz = 0, -np.pi, 0\n",
    "x, y, z = -0.08, 0.32, 0.1\n",
    "S = np.array([x, y, z, rx, ry, rz])\n",
    "\n",
    "# Compute the inverse kinematics\n",
    "ik_sol = robot.compute_inverse_kinematics(S)\n",
    "print(ik_sol)"
   ]
  },
  {
   "cell_type": "markdown",
   "metadata": {},
   "source": [
    "## Test of trajectory generation"
   ]
  },
  {
   "cell_type": "code",
   "execution_count": 4,
   "metadata": {},
   "outputs": [
    {
     "name": "stdout",
     "output_type": "stream",
     "text": [
      "Trajectory created by jtraj: 40 time steps x 6 axes\n"
     ]
    }
   ],
   "source": [
    "start = [4.54878939,-1.13205639,2.13931841,-2.57805848,-1.57079632, 2.97799307]\n",
    "end = [-4.54878939,-1.13205639,2.13931841,-2.57805848,-1.57079632, 2.97799307]\n",
    "t = 2.0\n",
    "\n",
    "# Compute the trajectory\n",
    "trajectory = robot.compute_trajectory(start, end, t)\n",
    "print(trajectory)\n",
    "\n",
    "# Save the trajectory\n",
    "with open(\"../../data/dt_data/generated_traj_example.npy\", 'wb') as f:\n",
    "    np.save(f, trajectory.q)"
   ]
  }
 ],
 "metadata": {
  "kernelspec": {
   "display_name": "dtcourse",
   "language": "python",
   "name": "python3"
  },
  "language_info": {
   "codemirror_mode": {
    "name": "ipython",
    "version": 3
   },
   "file_extension": ".py",
   "mimetype": "text/x-python",
   "name": "python",
   "nbconvert_exporter": "python",
   "pygments_lexer": "ipython3",
   "version": "3.12.6"
  }
 },
 "nbformat": 4,
 "nbformat_minor": 2
}
