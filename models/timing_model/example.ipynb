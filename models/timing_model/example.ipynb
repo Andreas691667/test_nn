{
 "cells": [
  {
   "cell_type": "code",
   "execution_count": 1,
   "metadata": {},
   "outputs": [],
   "source": [
    "import models.timing_model.timing_model as tm\n",
    "\n",
    "# Create a new timing model\n",
    "model = tm.TimingModel()"
   ]
  },
  {
   "cell_type": "code",
   "execution_count": 5,
   "metadata": {},
   "outputs": [
    {
     "name": "stdout",
     "output_type": "stream",
     "text": [
      "3.7484791278513083\n"
     ]
    }
   ],
   "source": [
    "# Declare start and end joint positions\n",
    "joint_position_start = [0, 0, 0, 0, 0, 0]\n",
    "joint_position_end = [3.14, 3.14, 3.14, 3.14, 3.14, 3.14]\n",
    "\n",
    "# Compute durations between positions\n",
    "duration = model.compute_duration_between_jps(joint_position_start, joint_position_end)\n",
    "print(duration)\n"
   ]
  }
 ],
 "metadata": {
  "kernelspec": {
   "display_name": "DTCaseStudy",
   "language": "python",
   "name": "python3"
  },
  "language_info": {
   "codemirror_mode": {
    "name": "ipython",
    "version": 3
   },
   "file_extension": ".py",
   "mimetype": "text/x-python",
   "name": "python",
   "nbconvert_exporter": "python",
   "pygments_lexer": "ipython3",
   "version": "3.12.6"
  }
 },
 "nbformat": 4,
 "nbformat_minor": 2
}
